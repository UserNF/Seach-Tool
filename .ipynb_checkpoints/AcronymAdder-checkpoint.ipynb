{
 "cells": [
  {
   "cell_type": "code",
   "execution_count": 7,
   "id": "9aa2d739-9141-4440-a809-8b10ee40e555",
   "metadata": {},
   "outputs": [
    {
     "name": "stdout",
     "output_type": "stream",
     "text": [
      "fcu\n",
      "ef\n",
      "uh\n",
      "dhw\n",
      "sump\n",
      "misc\n",
      "ahu\n",
      "fcu\n",
      "ef\n",
      "uh\n",
      "dhw\n",
      "sump\n",
      "misc\n",
      "ahu\n"
     ]
    }
   ],
   "source": [
    "from tkinter import *\n",
    "from PIL import ImageTk, Image\n",
    "import tkinter as ttk\n",
    "from tkinter import font\n",
    "\n",
    "root = Tk()\n",
    "root.title('JCI Search')\n",
    "root.iconbitmap('JCI Logo.ico')\n",
    "root.geometry(\"500x500\")\n",
    "\n",
    "definitions = {\n",
    "    \"fcu\": [\"Fan Coil Unit (FCU)\",  \"Fan Coil Unit             (FCU): Small terminal unit that uses a heat exchanger and a fan to generate heating or cooling for a space.\"],\n",
    "    \"ef\": [\"Exhaust Fan (EF)\", \"Exhaust Fan               (EF): Removes unpleasant odors like steam or smoke from rooms and reduces mold.\"],\n",
    "    \"uh\": [\"Unit Heater (UH)\",  \"Unit Heater               (UH):  A unit heater has a heating element, a blower fan, and a heat exchanger that is designed to warm a space.\"],\n",
    "    \"dhw\": [\"Domestic Hot Water System (DHW)\", \"Domestic Hot Water System (DHW): Delivers hot water to people at sinks, tubs, and other areas that humans interact.\"],\n",
    "    \"sump\": [\"Unknown (SUMP)\", \"Unknown                  (SUMP): DEF\"],\n",
    "    \"misc\": [\"Unknwon (MISC)\", \"Unknwon                  (MISC): DEF\"]\n",
    "    }\n",
    "\n",
    "my_label = Label(root, text = \"Add Acronyms\", font = \"Arial 20\")\n",
    "my_label.pack(pady=20)\n",
    "\n",
    "# Create an entrybox\n",
    "acronym_label = Label(root, text = \"Acronym\", font = \"Arial 10\")\n",
    "acronym_label.pack(pady=20)\n",
    "\n",
    "my_acronym = Entry(root, font=(\"Helvetica\", 20))\n",
    "my_acronym.grid_size()\n",
    "my_acronym.pack()\n",
    "\n",
    "translation_label = Label(root, text = \"Translation\", font = \"Arial 10\")\n",
    "translation_label.pack(pady=20)\n",
    "\n",
    "# Summary Title\n",
    "my_translation = Entry(root, font=(\"Helvetica\", 20))\n",
    "my_translation.grid_size()\n",
    "my_translation.pack()\n",
    "\n",
    "# Summary Entry\n",
    "summary_label = Label(root, text = \"Summary\", font = \"Arial 10\")\n",
    "summary_label.pack(pady=20)\n",
    "\n",
    "my_summary = Entry(root, font=(\"Helvetica\", 20))\n",
    "my_summary.grid_size()\n",
    "my_summary.pack()\n",
    "\n",
    "def insert(e):\n",
    "    definitions[my_acronym.get().lower()] = [my_translation.get(),my_summary.get()]\n",
    "    for key in definitions:\n",
    "        print(key)\n",
    "\n",
    "\n",
    "# Create binding on the entry box call a function if release the key\n",
    "my_acronym.bind(\"<Key-Return>\", insert)\n",
    "my_summary.bind(\"<Key-Return>\", insert)\n",
    "my_translation.bind(\"<Key-Return>\", insert)\n",
    "\n",
    "my_acronym.bbox\n",
    "root.mainloop()"
   ]
  },
  {
   "cell_type": "code",
   "execution_count": 11,
   "id": "d9879c1c-898c-4668-a1b5-e3a4842cb781",
   "metadata": {},
   "outputs": [
    {
     "name": "stdout",
     "output_type": "stream",
     "text": [
      "fcu\n",
      "ef\n",
      "uh\n",
      "dhw\n",
      "sump\n",
      "misc\n"
     ]
    }
   ],
   "source": [
    "# activate add acronym prompt via button press"
   ]
  },
  {
   "cell_type": "code",
   "execution_count": 8,
   "id": "4b9f2d54-564c-4b7b-8b1f-29d208282005",
   "metadata": {},
   "outputs": [],
   "source": [
    "#Save data\n",
    "import tkinter as tk\n",
    "from tkinter import messagebox\n",
    "import json\n",
    "\n",
    "# Initialize the main window\n",
    "root = tk.Tk()\n",
    "root.title(\"Dictionary Saver\")\n",
    "\n",
    "# Initialize an empty dictionary\n",
    "data_dict = {}\n",
    "\n",
    "# Function to add data to the dictionary\n",
    "def add_data():\n",
    "    key = entry_key.get()\n",
    "    value = entry_value.get()\n",
    "    if key and value:\n",
    "        data_dict[key] = value\n",
    "        entry_key.delete(0, tk.END)\n",
    "        entry_value.delete(0, tk.END)\n",
    "        messagebox.showinfo(\"Success\", \"Data added to dictionary!\")\n",
    "    else:\n",
    "        messagebox.showwarning(\"Input Error\", \"Please enter both key and value.\")\n",
    "\n",
    "# Function to save the dictionary to a file\n",
    "def save_data():\n",
    "    with open(\"data.json\", \"w\") as file:\n",
    "        json.dump(data_dict, file)\n",
    "    messagebox.showinfo(\"Success\", \"Dictionary saved to data.json!\")\n",
    "\n",
    "# Create and place widgets\n",
    "tk.Label(root, text=\"Key:\").grid(row=0, column=0)\n",
    "entry_key = tk.Entry(root)\n",
    "entry_key.grid(row=0, column=1)\n",
    "\n",
    "tk.Label(root, text=\"Value:\").grid(row=1, column=0)\n",
    "entry_value = tk.Entry(root)\n",
    "entry_value.grid(row=1, column=1)\n",
    "\n",
    "tk.Button(root, text=\"Add Data\", command=add_data).grid(row=2, column=0, columnspan=2)\n",
    "tk.Button(root, text=\"Save Data\", command=save_data).grid(row=3, column=0, columnspan=2)\n",
    "\n",
    "# Run the main loop\n",
    "root.mainloop()"
   ]
  },
  {
   "cell_type": "code",
   "execution_count": null,
   "id": "dd4c5dea-c587-442f-9d0b-9d4215a72b0f",
   "metadata": {},
   "outputs": [],
   "source": []
  }
 ],
 "metadata": {
  "kernelspec": {
   "display_name": "Python 3 (ipykernel)",
   "language": "python",
   "name": "python3"
  },
  "language_info": {
   "codemirror_mode": {
    "name": "ipython",
    "version": 3
   },
   "file_extension": ".py",
   "mimetype": "text/x-python",
   "name": "python",
   "nbconvert_exporter": "python",
   "pygments_lexer": "ipython3",
   "version": "3.13.0"
  }
 },
 "nbformat": 4,
 "nbformat_minor": 5
}
